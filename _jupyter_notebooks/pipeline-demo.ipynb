{
 "cells": [
  {
   "cell_type": "code",
   "execution_count": 2,
   "metadata": {},
   "outputs": [
    {
     "name": "stdout",
     "output_type": "stream",
     "text": [
      "\u001b[32mCourtesy Notice\u001b[0m: Pipenv found itself running within a virtual environment, so it will automatically use that environment, instead of creating its own for any project. You can set \u001b[1mPIPENV_IGNORE_VIRTUALENVS=1\u001b[0m to force pipenv to ignore that environment and create its own instead. You can set \u001b[1mPIPENV_VERBOSITY=-1\u001b[0m to suppress this warning.\n",
      "\u001b[1mRunning\u001b[0m \u001b[33m\u001b[1m$ pipenv lock\u001b[0m \u001b[1mthen\u001b[0m \u001b[33m\u001b[1m$ pipenv sync\u001b[0m\u001b[1m.\u001b[0m\n",
      "Locking\u001b[0m \u001b[33m[packages]\u001b[0m dependencies...\u001b[0m\n",
      "\u001b[?25lBuilding requirements\u001b[33m...\u001b[0m\n",
      "\u001b[2KResolving dependencies\u001b[33m...\u001b[0m\n",
      "\u001b[2K✔ Success! Locking...\n",
      "\u001b[2K\u001b[32m⠦\u001b[0m Locking...\n",
      "\u001b[1A\u001b[2KLocking\u001b[0m \u001b[33m[dev-packages]\u001b[0m dependencies...\u001b[0m\n",
      "\u001b[?25lBuilding requirements\u001b[33m...\u001b[0m\n",
      "\u001b[2KResolving dependencies\u001b[33m...\u001b[0m\n",
      "\u001b[2K✔ Success! Locking...\n",
      "\u001b[2K\u001b[32m⠴\u001b[0m Locking...\n",
      "\u001b[1A\u001b[2K\u001b[1mUpdated Pipfile.lock (d6f9e44df7ae7e4a36f8b94f06c165d77d00edf5560a42bd71f34b0edb0b652a)!\u001b[0m\n",
      "\u001b[1mInstalling dependencies from Pipfile.lock (0b652a)...\u001b[0m\n",
      "To activate this project's virtualenv, run \u001b[33mpipenv shell\u001b[0m.\n",
      "Alternatively, run a command inside the virtualenv with \u001b[33mpipenv run\u001b[0m.\n",
      "\u001b[32mAll dependencies are now up-to-date!\u001b[0m\n"
     ]
    }
   ],
   "source": [
    "# Installing Dependencies\n",
    "!pipenv update"
   ]
  },
  {
   "attachments": {},
   "cell_type": "markdown",
   "metadata": {},
   "source": [
    "# Library Imports "
   ]
  },
  {
   "cell_type": "code",
   "execution_count": 3,
   "metadata": {},
   "outputs": [
    {
     "name": "stdout",
     "output_type": "stream",
     "text": [
      "KFP SDK version: 1.8.19\n",
      "AI Platform version: 1.22.0\n",
      "google_cloud_pipeline_components version: 1.0.39\n"
     ]
    }
   ],
   "source": [
    "# The KFP SDK version should be >=1.6\n",
    "import kfp \n",
    "# !pip install -v https://files.pythonhosted.org/packages/65/75/8b706e1170e2c7b6242b1675259e47986bb4fc490f29387989a965972e6e/grpcio-1.44.0.tar.gz\n",
    "\n",
    "import google.cloud.aiplatform as aip\n",
    "import google_cloud_pipeline_components\n",
    "\n",
    "print('KFP SDK version: {}'.format(kfp.__version__))\n",
    "print('AI Platform version: {}'.format(aip.__version__))\n",
    "print('google_cloud_pipeline_components version: {}'.format(google_cloud_pipeline_components.__version__))"
   ]
  },
  {
   "attachments": {},
   "cell_type": "markdown",
   "metadata": {},
   "source": [
    "# Environment Configuration"
   ]
  },
  {
   "cell_type": "code",
   "execution_count": null,
   "metadata": {},
   "outputs": [],
   "source": [
    "import os\n",
    "\n",
    "PROJECT_ID = \"ground-zero-377715\"  # @param {type:\"string\"}\n",
    "PROJECT_NUMBER=\"245954991926\"\n",
    "# ! gcloud config set project $PROJECT_ID\n",
    "# REGION = \"us-central1\"  # @param {type: \"string\"}\n",
    "GOOGLE_APPLICATION_CREDENTIALS = os.getenv('GOOGLE_APPLICATION_CREDENTIALS')\n",
    "\n",
    "BUCKET_NAME = \"ga-pipelines\"  # @param {type:\"string\"}\n",
    "BUCKET_URI = f\"gs://ga-pipelines\"\n",
    "SERVICE_ACCOUNT = \"sa-vertex-ai@ground-zero-377715.iam.gserviceaccount.com\"  # @param {type:\"string\"}\n",
    "\n",
    "# ! gsutil iam ch serviceAccount:{SERVICE_ACCOUNT}:roles/storage.objectCreator $BUCKET_URI\n",
    "# ! gsutil iam ch serviceAccount:{SERVICE_ACCOUNT}:roles/storage.objectViewer $BUCKET_URI\n",
    "\n",
    "PIPELINE_ROOT = f\"{BUCKET_URI}/pipeline_root/minimal_pipeline\"\n",
    "\n",
    "# Initialite Vertex AI SDK\n",
    "aip.init(project=PROJECT_ID, staging_bucket=BUCKET_URI)\n"
   ]
  },
  {
   "cell_type": "code",
   "execution_count": null,
   "metadata": {},
   "outputs": [],
   "source": [
    "# !gcloud iam service-accounts list"
   ]
  },
  {
   "cell_type": "code",
   "execution_count": null,
   "metadata": {},
   "outputs": [],
   "source": [
    "# Delegation to your service account\n",
    "\n",
    "# !gcloud iam service-accounts add-iam-policy-binding \"sa-vertex-ai@ground-zero-377715.iam.gserviceaccount.com\" \\\n",
    "#    --member \"user:muhammad.ahsan@ginkgo-analytics.com\" \\\n",
    "#    --role \"roles/iam.serviceAccountUser\" \\\n",
    "#    --project=\"ground-zero-377715\""
   ]
  },
  {
   "cell_type": "code",
   "execution_count": null,
   "metadata": {},
   "outputs": [],
   "source": [
    "# Validate Access to Bucket\n",
    "# !gsutil ls -al $BUCKET_URI"
   ]
  },
  {
   "attachments": {},
   "cell_type": "markdown",
   "metadata": {},
   "source": [
    "# Pipeline Architecture"
   ]
  },
  {
   "attachments": {},
   "cell_type": "markdown",
   "metadata": {},
   "source": [
    "### Pipeline -> Hello World"
   ]
  },
  {
   "cell_type": "code",
   "execution_count": null,
   "metadata": {},
   "outputs": [],
   "source": [
    "# Hello World Pipeline\n",
    "\n",
    "from kfp.v2 import dsl\n",
    "from kfp.v2 import compiler\n",
    "\n",
    "from kfp.v2.dsl import component\n",
    "\n",
    "@component\n",
    "def hello_world(text: str) -> str:\n",
    "    return text\n",
    "\n",
    "@dsl.pipeline(name='hello-world', description='A simple introduction to pipelines')\n",
    "def pipeline_hello_world(text: str = 'hi there'):\n",
    "    \"\"\"Pipeline that passes small pipeline parameter string to consumer op.\"\"\"\n",
    "    consume_task = hello_world(text=text)"
   ]
  },
  {
   "attachments": {},
   "cell_type": "markdown",
   "metadata": {},
   "source": [
    "### Pipeline -> String Concat and Reverse"
   ]
  },
  {
   "cell_type": "code",
   "execution_count": 45,
   "metadata": {},
   "outputs": [],
   "source": [
    "from typing import NamedTuple\n",
    "@component(output_component_file=\"../pipelines/concat_op.json\")\n",
    "def concat_op(a: str, b: str) -> str:\n",
    "    return a + b\n",
    "\n",
    "@component(output_component_file=\"../pipelines/reverse_op.json\")\n",
    "def reverse_op(a: str) -> NamedTuple(\"outputs\", [(\"before\", str),(\"after\", str)]):\n",
    "    return a, a[::-1]\n",
    "\n",
    "\n",
    "@dsl.pipeline(name='string-manipulator', description='A pipeline to concatenate two strings and finally reverse it')\n",
    "def pipeline_string_manipulator(first_string: str = 'muhammad', second_string: str = 'ahsan'):\n",
    "    \n",
    "    concat_task = concat_op(first_string, second_string) \n",
    "    reverse_task = reverse_op(concat_task.output)\n"
   ]
  },
  {
   "attachments": {},
   "cell_type": "markdown",
   "metadata": {},
   "source": [
    "# Pipeline Compilation"
   ]
  },
  {
   "cell_type": "code",
   "execution_count": null,
   "metadata": {},
   "outputs": [],
   "source": [
    "!rm '../pipelines/string_manipulator_pl.json'\n",
    "compiler.Compiler().compile(\n",
    "    pipeline_func=pipeline_string_manipulator,\n",
    "    package_path='../pipelines/string_manipulator_pl.json')"
   ]
  },
  {
   "attachments": {},
   "cell_type": "markdown",
   "metadata": {},
   "source": [
    "# Pipeline Execution"
   ]
  },
  {
   "cell_type": "code",
   "execution_count": null,
   "metadata": {},
   "outputs": [],
   "source": [
    "# NOT WORKING - SERVICE ACCOUNT ISSUE\n",
    "\n",
    "\n",
    "from datetime import datetime\n",
    "\n",
    "TIMESTAMP = datetime.now().strftime(\"%Y%m%d%H%M%S\")\n",
    "\n",
    "DISPLAY_NAME = \"hello_world_pipeline_\" + TIMESTAMP\n",
    "\n",
    "job = aip.PipelineJob(\n",
    "    display_name=DISPLAY_NAME,\n",
    "    template_path=\"../pipelines/hello_world_pipeline.json\",\n",
    "    pipeline_root=PIPELINE_ROOT,\n",
    "    parameter_values={},\n",
    ")\n",
    "\n",
    "job.run()"
   ]
  },
  {
   "cell_type": "code",
   "execution_count": null,
   "metadata": {},
   "outputs": [],
   "source": []
  }
 ],
 "metadata": {
  "kernelspec": {
   "display_name": "vertex-ai-X0Eq6vs1",
   "language": "python",
   "name": "python3"
  },
  "language_info": {
   "codemirror_mode": {
    "name": "ipython",
    "version": 3
   },
   "file_extension": ".py",
   "mimetype": "text/x-python",
   "name": "python",
   "nbconvert_exporter": "python",
   "pygments_lexer": "ipython3",
   "version": "3.9.16"
  },
  "orig_nbformat": 4,
  "vscode": {
   "interpreter": {
    "hash": "118f5c68af75857287d2aee88f43f12f61e68bf83618acc584b5d94fc12e4ca6"
   }
  }
 },
 "nbformat": 4,
 "nbformat_minor": 2
}
